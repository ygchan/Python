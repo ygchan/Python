{
 "cells": [
  {
   "cell_type": "code",
   "execution_count": 6,
   "metadata": {},
   "outputs": [
    {
     "name": "stdout",
     "output_type": "stream",
     "text": [
      "-f /Users/Study/Library/Jupyter/runtime/kernel-40c34662-c072-471a-b020-6585db80d8b2.json\n"
     ]
    },
    {
     "data": {
      "text/plain": [
       "True"
      ]
     },
     "execution_count": 6,
     "metadata": {},
     "output_type": "execute_result"
    }
   ],
   "source": [
    "# Chapter 11: Web Scraping\n",
    "# https://automatetheboringstuff.com/chapter11/\n",
    "\n",
    "# Useful program to lauch a map\n",
    "# Get a street address from the command line arugment/clipboard\n",
    "# Open the web browser to the Google Map page for the address\n",
    "\n",
    "# Need to read the command line arugments from sys.argv\n",
    "# Read the clipboard contents\n",
    "# Call the webbroswer.open() function to open the web broswer\n",
    "\n",
    "# Sample usage: mapit 100 church street, NY, NY 10003\n",
    "# If there are no arugment in the command line, the program will use \n",
    "\n",
    "# Your program can be set to open a web browser to\n",
    "# 'https://www.google.com/maps/place/your_address_string'\n",
    "\n",
    "#! python3\n",
    "# mapIt.py - Lauches a map in the browser using an address from the\n",
    "# command line or clipboard\n",
    "\n",
    "import webbrowser, sys, pyperclip\n",
    "\n",
    "if len(sys.argv) > 1:\n",
    "    # Get address from command line\n",
    "    address = ' '.join(sys.argv[1:])\n",
    "\n",
    "    # sys.argv[0] is your program's filename\n",
    "    print(address)\n",
    "\n",
    "else:\n",
    "    # Get address from clipboard\n",
    "    address = pyperclip.paste()\n",
    "\n",
    "    \n",
    "webbrowser.open('https://www.google.com/maps/place/' + address)\n"
   ]
  },
  {
   "cell_type": "code",
   "execution_count": 2,
   "metadata": {},
   "outputs": [
    {
     "data": {
      "text/plain": [
       "'address'"
      ]
     },
     "execution_count": 2,
     "metadata": {},
     "output_type": "execute_result"
    }
   ],
   "source": [
    "pyperclip.paste()"
   ]
  },
  {
   "cell_type": "code",
   "execution_count": null,
   "metadata": {},
   "outputs": [],
   "source": [
    "web"
   ]
  }
 ],
 "metadata": {
  "kernelspec": {
   "display_name": "Python 3",
   "language": "python",
   "name": "python3"
  },
  "language_info": {
   "codemirror_mode": {
    "name": "ipython",
    "version": 3
   },
   "file_extension": ".py",
   "mimetype": "text/x-python",
   "name": "python",
   "nbconvert_exporter": "python",
   "pygments_lexer": "ipython3",
   "version": "3.7.3"
  }
 },
 "nbformat": 4,
 "nbformat_minor": 2
}
